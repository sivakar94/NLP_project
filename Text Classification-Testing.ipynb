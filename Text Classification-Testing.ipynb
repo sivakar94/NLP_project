{
 "cells": [
  {
   "cell_type": "code",
   "execution_count": 1,
   "metadata": {},
   "outputs": [],
   "source": [
    "import json\n",
    "from random import shuffle\n",
    "from sklearn.svm import LinearSVC\n",
    "from sklearn.pipeline import Pipeline\n",
    "from sklearn import model_selection, preprocessing\n",
    "from sklearn.feature_extraction.text import TfidfVectorizer, CountVectorizer\n",
    "from sklearn.metrics import precision_recall_fscore_support\n",
    "from sklearn.metrics import accuracy_score,confusion_matrix"
   ]
  },
  {
   "cell_type": "code",
   "execution_count": 2,
   "metadata": {},
   "outputs": [],
   "source": [
    "import nltk\n",
    "from nltk import word_tokenize\n",
    "from nltk.classify import SklearnClassifier\n",
    "from nltk import FreqDist\n",
    "from nltk.tokenize import RegexpTokenizer\n",
    "from nltk import pos_tag\n",
    "from nltk.corpus import stopwords\n",
    "from collections import Counter\n",
    "import numpy\n",
    "import pandas as pd\n",
    "import matplotlib.pyplot as plt"
   ]
  },
  {
   "cell_type": "code",
   "execution_count": 3,
   "metadata": {},
   "outputs": [],
   "source": [
    "from collections import Counter\n",
    "from sklearn.feature_extraction import DictVectorizer\n",
    "from scipy import sparse\n",
    "import re\n",
    "from nltk.sentiment.vader import SentimentIntensityAnalyzer as SIA\n",
    "from sklearn import decomposition, ensemble\n",
    "import xgboost\n",
    "from sklearn.model_selection import train_test_split\n",
    "from sklearn.metrics import confusion_matrix\n",
    "from sklearn.metrics import accuracy_score\n",
    "from sklearn.linear_model import LogisticRegression\n",
    "from sklearn.naive_bayes import MultinomialNB\n",
    "from sklearn.svm import LinearSVC\n",
    "from sklearn.model_selection import cross_val_score\n",
    "from sklearn.tree import DecisionTreeClassifier\n",
    "from sklearn.neighbors import KNeighborsClassifier\n",
    "from sklearn.multiclass import OneVsRestClassifier\n",
    "import seaborn as sns\n",
    "from nltk.stem import WordNetLemmatizer \n",
    "import spacy\n",
    "from spacy import displacy\n",
    "from collections import Counter\n",
    "from pprint import pprint\n",
    "from sklearn.feature_selection import SelectKBest\n",
    "from sklearn.feature_selection import chi2\n",
    "from sklearn import metrics"
   ]
  },
  {
   "cell_type": "code",
   "execution_count": 4,
   "metadata": {},
   "outputs": [],
   "source": [
    "import warnings\n",
    "warnings.filterwarnings('ignore')"
   ]
  },
  {
   "cell_type": "markdown",
   "metadata": {},
   "source": [
    "# Import Data"
   ]
  },
  {
   "cell_type": "code",
   "execution_count": 5,
   "metadata": {},
   "outputs": [],
   "source": [
    "top_char=20"
   ]
  },
  {
   "cell_type": "code",
   "execution_count": 6,
   "metadata": {},
   "outputs": [],
   "source": [
    "# Read JSON scripts into dataframe\n",
    "df=pd.read_json('data/dialogues-combined.json')\n",
    "df.columns=['script_number','scene','character','dialogue','attributes','char_groups']\n",
    "df['scene']=df['scene'].str.split('|')"
   ]
  },
  {
   "cell_type": "code",
   "execution_count": 7,
   "metadata": {},
   "outputs": [],
   "source": [
    "# Select most frequent characters\n",
    "x=df.character.value_counts().head(top_char).keys()\n",
    "df=df.loc[df['character'].isin(x)]\n",
    "df=df.reset_index(drop=True)"
   ]
  },
  {
   "cell_type": "code",
   "execution_count": 8,
   "metadata": {},
   "outputs": [
    {
     "data": {
      "image/png": "[encoded data removed]",
      "text/plain": [
       "<Figure size 576x432 with 1 Axes>"
      ]
     },
     "metadata": {
      "needs_background": "light"
     },
     "output_type": "display_data"
    }
   ],
   "source": [
    "# Plot count of dialogues\n",
    "fig = plt.figure(figsize=(8,6))\n",
    "df.groupby('character').dialogue.count().plot.bar(ylim=0)\n",
    "plt.show()"
   ]
  },
  {
   "cell_type": "code",
   "execution_count": 9,
   "metadata": {},
   "outputs": [],
   "source": [
    "# Add Gender Heuristic to the data\n",
    "gender_df = pd.read_csv('data/gender.csv',na_filter=False)\n",
    "gender_dict=dict(zip(gender_df.name, gender_df.gender))\n",
    "df['gender']=df['character'].apply(lambda x: 'unknown' if gender_dict.get(x,'') =='' else  gender_dict[x])"
   ]
  },
  {
   "cell_type": "code",
   "execution_count": 10,
   "metadata": {},
   "outputs": [],
   "source": [
    "# Label encoding\n",
    "encoder = preprocessing.LabelEncoder()\n",
    "char = encoder.fit_transform(df['character'])\n",
    "#df = df.drop('character', axis=1)\n",
    "df['category_id']=char\n",
    "labels = df.category_id\n",
    "\n",
    "#create an ordered mapping between character and category_id\n",
    "category_df = df[['character', 'category_id']].drop_duplicates().sort_values('category_id')"
   ]
  },
  {
   "cell_type": "code",
   "execution_count": 11,
   "metadata": {},
   "outputs": [
    {
     "data": {
      "text/html": [
       "<div>\n",
       "<style scoped>\n",
       "    .dataframe tbody tr th:only-of-type {\n",
       "        vertical-align: middle;\n",
       "    }\n",
       "\n",
       "    .dataframe tbody tr th {\n",
       "        vertical-align: top;\n",
       "    }\n",
       "\n",
       "    .dataframe thead th {\n",
       "        text-align: right;\n",
       "    }\n",
       "</style>\n",
       "<table border=\"1\" class=\"dataframe\">\n",
       "  <thead>\n",
       "    <tr style=\"text-align: right;\">\n",
       "      <th></th>\n",
       "      <th>script_number</th>\n",
       "      <th>scene</th>\n",
       "      <th>character</th>\n",
       "      <th>dialogue</th>\n",
       "      <th>attributes</th>\n",
       "      <th>char_groups</th>\n",
       "      <th>gender</th>\n",
       "      <th>category_id</th>\n",
       "    </tr>\n",
       "  </thead>\n",
       "  <tbody>\n",
       "    <tr>\n",
       "      <th>0</th>\n",
       "      <td>1350</td>\n",
       "      <td>[DESERTED CAR PARK, EXT, NIGHT]</td>\n",
       "      <td>SHIRLEY</td>\n",
       "      <td>Look at ya, not a mark on ya. And you think yo...</td>\n",
       "      <td>[]</td>\n",
       "      <td>[KEVIN, SHIRLEY]</td>\n",
       "      <td>female</td>\n",
       "      <td>16</td>\n",
       "    </tr>\n",
       "    <tr>\n",
       "      <th>1</th>\n",
       "      <td>1350</td>\n",
       "      <td>[R&amp;R, INT, NIGHT]</td>\n",
       "      <td>JACK</td>\n",
       "      <td>Oi. Where have you been? Huh? What were the te...</td>\n",
       "      <td>[]</td>\n",
       "      <td>[JACK, RONNIE]</td>\n",
       "      <td>male</td>\n",
       "      <td>7</td>\n",
       "    </tr>\n",
       "    <tr>\n",
       "      <th>2</th>\n",
       "      <td>1350</td>\n",
       "      <td>[R&amp;R, INT, NIGHT]</td>\n",
       "      <td>RONNIE</td>\n",
       "      <td>Nothing. Nothing. I'll be with you in two minu...</td>\n",
       "      <td>[]</td>\n",
       "      <td>[JACK, RONNIE]</td>\n",
       "      <td>female</td>\n",
       "      <td>13</td>\n",
       "    </tr>\n",
       "    <tr>\n",
       "      <th>3</th>\n",
       "      <td>1350</td>\n",
       "      <td>[R&amp;R, INT, NIGHT]</td>\n",
       "      <td>JACK</td>\n",
       "      <td>Well I've got mates here I wanted to have a ch...</td>\n",
       "      <td>[]</td>\n",
       "      <td>[JACK, RONNIE]</td>\n",
       "      <td>male</td>\n",
       "      <td>7</td>\n",
       "    </tr>\n",
       "    <tr>\n",
       "      <th>4</th>\n",
       "      <td>1350</td>\n",
       "      <td>[R&amp;R, INT, NIGHT]</td>\n",
       "      <td>RONNIE</td>\n",
       "      <td>Alright. Two minutes.</td>\n",
       "      <td>[]</td>\n",
       "      <td>[JACK, RONNIE]</td>\n",
       "      <td>female</td>\n",
       "      <td>13</td>\n",
       "    </tr>\n",
       "  </tbody>\n",
       "</table>\n",
       "</div>"
      ],
      "text/plain": [
       "   script_number                            scene character  \\\n",
       "0           1350  [DESERTED CAR PARK, EXT, NIGHT]   SHIRLEY   \n",
       "1           1350                [R&R, INT, NIGHT]      JACK   \n",
       "2           1350                [R&R, INT, NIGHT]    RONNIE   \n",
       "3           1350                [R&R, INT, NIGHT]      JACK   \n",
       "4           1350                [R&R, INT, NIGHT]    RONNIE   \n",
       "\n",
       "                                            dialogue attributes  \\\n",
       "0  Look at ya, not a mark on ya. And you think yo...         []   \n",
       "1  Oi. Where have you been? Huh? What were the te...         []   \n",
       "2  Nothing. Nothing. I'll be with you in two minu...         []   \n",
       "3  Well I've got mates here I wanted to have a ch...         []   \n",
       "4                              Alright. Two minutes.         []   \n",
       "\n",
       "        char_groups  gender  category_id  \n",
       "0  [KEVIN, SHIRLEY]  female           16  \n",
       "1    [JACK, RONNIE]    male            7  \n",
       "2    [JACK, RONNIE]  female           13  \n",
       "3    [JACK, RONNIE]    male            7  \n",
       "4    [JACK, RONNIE]  female           13  "
      ]
     },
     "execution_count": 11,
     "metadata": {},
     "output_type": "execute_result"
    }
   ],
   "source": [
    "# preview dataset\n",
    "df.head()"
   ]
  },
  {
   "cell_type": "markdown",
   "metadata": {},
   "source": [
    "# Test Data"
   ]
  },
  {
   "cell_type": "code",
   "execution_count": 12,
   "metadata": {},
   "outputs": [
    {
     "data": {
      "text/html": [
       "<div>\n",
       "<style scoped>\n",
       "    .dataframe tbody tr th:only-of-type {\n",
       "        vertical-align: middle;\n",
       "    }\n",
       "\n",
       "    .dataframe tbody tr th {\n",
       "        vertical-align: top;\n",
       "    }\n",
       "\n",
       "    .dataframe thead th {\n",
       "        text-align: right;\n",
       "    }\n",
       "</style>\n",
       "<table border=\"1\" class=\"dataframe\">\n",
       "  <thead>\n",
       "    <tr style=\"text-align: right;\">\n",
       "      <th></th>\n",
       "      <th>attributes</th>\n",
       "      <th>category_id</th>\n",
       "      <th>char_groups</th>\n",
       "      <th>character</th>\n",
       "      <th>dialogue</th>\n",
       "      <th>gender</th>\n",
       "      <th>scene</th>\n",
       "      <th>script_number</th>\n",
       "    </tr>\n",
       "  </thead>\n",
       "  <tbody>\n",
       "    <tr>\n",
       "      <th>0</th>\n",
       "      <td>[]</td>\n",
       "      <td>None</td>\n",
       "      <td>[]</td>\n",
       "      <td>None</td>\n",
       "      <td>I’m… I'm sick, I'm sick Max ... I need to get...</td>\n",
       "      <td>unknown</td>\n",
       "      <td>[]</td>\n",
       "      <td>None</td>\n",
       "    </tr>\n",
       "  </tbody>\n",
       "</table>\n",
       "</div>"
      ],
      "text/plain": [
       "  attributes category_id char_groups character  \\\n",
       "0         []        None          []      None   \n",
       "\n",
       "                                            dialogue   gender scene  \\\n",
       "0   I’m… I'm sick, I'm sick Max ... I need to get...  unknown    []   \n",
       "\n",
       "  script_number  \n",
       "0          None  "
      ]
     },
     "execution_count": 12,
     "metadata": {},
     "output_type": "execute_result"
    }
   ],
   "source": [
    "scene=[]\n",
    "dialogue=\"\"\" I’m… I'm sick, I'm sick Max ... I need to get better, I need to... I need to recover and you won't let me... will ya? I loved you with all my heart ... and now ... even now ... there’s still something there. How disgusting is that? To still have feelings like that. But not you though eh? Not you. The only person you love is yourself ... is Max Branning ... king of the world ain't he? That's what you tell yourself. I know the truth, inside you‘re just, you're just a frightened, sad, lonely little boy, frightened kid who’s dad didn’t love him enough. And it’s all... it's all so pathetic. \"\"\"\n",
    "attributes=[]\n",
    "char_groups=[]\n",
    "gender='unknown'\n",
    "\n",
    "test_df=pd.DataFrame.from_dict([{'script_number': None,'scene': scene,'character': None,'dialogue':dialogue,'attributes':attributes,'char_groups':char_groups,'gender':gender,'category_id':None}])\n",
    "df=df.append(test_df)\n",
    "test_df\n"
   ]
  },
  {
   "cell_type": "markdown",
   "metadata": {},
   "source": [
    "# Feature Engineering"
   ]
  },
  {
   "cell_type": "markdown",
   "metadata": {},
   "source": [
    "#### Text preprocessing Function"
   ]
  },
  {
   "cell_type": "code",
   "execution_count": 13,
   "metadata": {},
   "outputs": [],
   "source": [
    "class LemmaTokenizer(object):\n",
    "    def __init__(self):\n",
    "        self.wnl = WordNetLemmatizer()\n",
    "    def __call__(self, articles):\n",
    "        return [self.wnl.lemmatize(t) for t in word_tokenize(articles)]"
   ]
  },
  {
   "cell_type": "markdown",
   "metadata": {},
   "source": [
    "#### Non-Textual Features"
   ]
  },
  {
   "cell_type": "code",
   "execution_count": 14,
   "metadata": {},
   "outputs": [],
   "source": [
    "# Method to parse attributes into dictionary\n",
    "def parseAttribures(attr):\n",
    "    if attr is None:\n",
    "        return None\n",
    "    else:\n",
    "        return dict((x,attr.count(x)) for x in set(attr))\n",
    "\n",
    "\n",
    "#Scene Details as features\n",
    "def f_scene_func(df):\n",
    "    f_scene=DictVectorizer().fit_transform(df['scene'].apply(parseAttribures))\n",
    "    return f_scene\n",
    "\n",
    "# Script's parenthetical attributes as features\n",
    "def f_attributes_func(df):\n",
    "    f_attributes=DictVectorizer().fit_transform(df['attributes'].apply(parseAttribures)) \n",
    "    max_abs_scaler = preprocessing.MaxAbsScaler()\n",
    "    f_attributes_scaled = max_abs_scaler.fit_transform(f_attributes)   # parenthetical attributes as features  - SCALED\n",
    "    return f_attributes_scaled\n",
    "\n",
    "# Top 100 Character groups as features\n",
    "def f_char_groups_func(df):\n",
    "    top_char_groups=list(df['char_groups'].apply('|'.join).value_counts().head(100).keys())\n",
    "    f_char_groups=DictVectorizer().fit_transform(df['char_groups'].apply('|'.join).apply(lambda x: x  if x  in top_char_groups else 'UNKNOWN').apply(lambda x:[x]).apply(parseAttribures))\n",
    "    return f_char_groups\n",
    "\n",
    "# Gender as a Feature\n",
    "def f_gender_func(df):\n",
    "    f_gender=DictVectorizer().fit_transform(df['gender'].apply(lambda x:[x]).apply(parseAttribures))\n",
    "    return f_gender\n"
   ]
  },
  {
   "cell_type": "markdown",
   "metadata": {},
   "source": [
    "#### Text Metadata features"
   ]
  },
  {
   "cell_type": "code",
   "execution_count": 15,
   "metadata": {},
   "outputs": [],
   "source": [
    "def extractMeta(x):\n",
    "    return {'count_chars': len(x),\n",
    "            'count_whitespace': x.count(\" \"),\n",
    "            'count_dots': x.count(\".\")-3*(x.count(\"...\")),\n",
    "            'count_cdots': x.count(\"...\"),\n",
    "            'count_excl': x.count(\"!\"),\n",
    "            'count_ques': x.count(\"?\"),\n",
    "            'count_num': len(re.findall(\"\\d\", x)),\n",
    "            'count_upper': len(re.findall(\"[A-Z]\", x)),\n",
    "            'count_words': len(x) / (x.count(\" \") + 1),\n",
    "            'count_sent': x.count(\" \") / (x.count(\".\") + 1)           \n",
    "           }\n",
    "\n",
    "def f_meta_func(df):\n",
    "    f_meta=DictVectorizer().fit_transform(df['dialogue'].apply(extractMeta))\n",
    "    max_abs_scaler = preprocessing.MaxAbsScaler()\n",
    "    f_meta_scaled = max_abs_scaler.fit_transform(f_meta)  # Metadata features scaled\n",
    "    return f_meta_scaled"
   ]
  },
  {
   "cell_type": "markdown",
   "metadata": {},
   "source": [
    "#### N-gram counts and frequencies"
   ]
  },
  {
   "cell_type": "code",
   "execution_count": 16,
   "metadata": {},
   "outputs": [],
   "source": [
    "#Count Vectors\n",
    "def f_count_func(df):\n",
    "    count_vect = CountVectorizer(analyzer='word', stop_words='english',token_pattern=r'\\w{1,}')\n",
    "    f_count=count_vect.fit_transform(df['dialogue'])\n",
    "    return f_count\n",
    "\n",
    "\n",
    "#TF-IDF unigram\n",
    "def f_tfidf_func(df):\n",
    "    tfidf_vect = TfidfVectorizer(analyzer='word',token_pattern=r\"\\b\\w[\\w']+\\b\", tokenizer=LemmaTokenizer(),max_features=5000)\n",
    "    f_tfidf=tfidf_vect.fit_transform(df['dialogue'])\n",
    "    return f_tfidf\n",
    "\n",
    "#TF-IDF n-gram\n",
    "def f_tfidf_ngram_func(df):\n",
    "    tfidf_ngram_vect = TfidfVectorizer(analyzer='word', token_pattern=r'\\w{1,}', ngram_range=(2,3), max_features=5000)\n",
    "    f_tfidf_ngram=tfidf_ngram_vect.fit_transform(df['dialogue'])\n",
    "    return f_tfidf_ngram\n",
    "\n",
    "#TF-IDF char n-gram\n",
    "def f_tfidf_ngram_chars_func(df):\n",
    "    tfidf_ngram_chars_vect = TfidfVectorizer(analyzer='char', token_pattern=r'\\w{1,}', ngram_range=(2,3), max_features=5000)\n",
    "    f_tfidf_ngram_chars=tfidf_ngram_chars_vect.fit_transform(df['dialogue'])\n"
   ]
  },
  {
   "cell_type": "markdown",
   "metadata": {},
   "source": [
    "#### POS Tags"
   ]
  },
  {
   "cell_type": "code",
   "execution_count": 17,
   "metadata": {},
   "outputs": [],
   "source": [
    "from nltk.tag import CRFTagger\n",
    "import pycrfsuite\n",
    "\n",
    "\n",
    "def f_pos_tags_func(df):\n",
    "    tokenizer = RegexpTokenizer(r'\\w+')\n",
    "    TAGGER_PATH = \"data/crfpostagger\"   # pre-trained POS-tagger \n",
    "    tagger = CRFTagger()  \n",
    "    tagger.set_model_file(TAGGER_PATH)\n",
    "\n",
    "    pos_tags=tagger.tag_sents([word.lower() for word in s] for s in df['dialogue'].apply(tokenizer.tokenize))\n",
    "    pos_tags_str = []\n",
    "    for word in pos_tags:\n",
    "        pos_tags_con=[w[0]+'_'+w[1] for w in word]\n",
    "        pos_tags_str.append(' '.join(pos_tags_con))\n",
    "    tfidf_pos = TfidfVectorizer(lowercase=False,max_features=5000)\n",
    "    f_pos_tags=tfidf_pos.fit_transform(pos_tags_str)\n",
    "    return f_pos_tags"
   ]
  },
  {
   "cell_type": "markdown",
   "metadata": {},
   "source": [
    "#### POS Tags a metadata features"
   ]
  },
  {
   "cell_type": "code",
   "execution_count": 18,
   "metadata": {},
   "outputs": [],
   "source": [
    "####### count of each POS type \n",
    "def check_pos_tag(x, flag):\n",
    "    cnt = 0\n",
    "    try:\n",
    "        for tup in x:\n",
    "            ppo = list(tup)[1]\n",
    "            if ppo in pos_family[flag]:\n",
    "                cnt += 1\n",
    "    except:\n",
    "        pass\n",
    "    return cnt\n",
    "\n",
    "\n",
    "def extractPOS(x):\n",
    "    count_noun=check_pos_tag(x,'noun')\n",
    "    count_verb=check_pos_tag(x,'verb')\n",
    "    count_adj=check_pos_tag(x,'adj')\n",
    "    count_adv=check_pos_tag(x,'adv')\n",
    "    count_pron=check_pos_tag(x,'pron')\n",
    "    count_sum=count_noun+count_verb+count_adj+count_adv+count_pron+1\n",
    "    return {'count_noun': count_noun/count_sum,\n",
    "            'count_verb': count_verb/count_sum,\n",
    "            'count_adj': count_adj/count_sum,\n",
    "            'count_adv': count_adv/count_sum,\n",
    "            'count_pron': count_pron/count_sum,\n",
    "           }\n",
    "\n",
    "\n",
    "def f_pos_count_func(df):\n",
    "    tokenizer = RegexpTokenizer(r'\\w+')\n",
    "    TAGGER_PATH = \"data/crfpostagger\"   # pre-trained POS-tagger \n",
    "    tagger = CRFTagger()  \n",
    "    tagger.set_model_file(TAGGER_PATH)\n",
    "    pos_family = {\n",
    "        'noun' : ['NN','NNS','NNP','NNPS'],\n",
    "        'pron' : ['PRP','PRP$','WP','WP$'],\n",
    "        'verb' : ['VB','VBD','VBG','VBN','VBP','VBZ'],\n",
    "        'adj' :  ['JJ','JJR','JJS'],\n",
    "        'adv' : ['RB','RBR','RBS','WRB']\n",
    "    }\n",
    "    f_pos_count=DictVectorizer().fit_transform(df['dialogue'].apply(tokenizer.tokenize).apply(lambda x: [word.lower() for word in x]).apply(tagger.tag).apply(extractPOS))\n",
    "    return f_pos_count\n"
   ]
  },
  {
   "cell_type": "markdown",
   "metadata": {},
   "source": [
    "#### Topic Modelling"
   ]
  },
  {
   "cell_type": "code",
   "execution_count": 19,
   "metadata": {},
   "outputs": [],
   "source": [
    "# train a LDA Model\n",
    "\n",
    "#tm_vect = TfidfVectorizer(analyzer='word',token_pattern=r\"\\b\\w[\\w']+\\b\",stop_words='english', max_features=5000)\n",
    "\n",
    "def f_topics_func(df):\n",
    "    tm_vect = CountVectorizer(analyzer='word', stop_words='english',token_pattern=r\"\\b\\w[\\w']+\\b\")\n",
    "    f_tm=tm_vect.fit_transform(df['dialogue'])\n",
    "    lda_model = decomposition.LatentDirichletAllocation(n_components=20, learning_method='online', max_iter=20)\n",
    "    f_topics = lda_model.fit_transform(f_tm)\n",
    "    return f_topics"
   ]
  },
  {
   "cell_type": "raw",
   "metadata": {},
   "source": [
    "# Preview the topic words\n",
    "topic_word = lda_model.components_ \n",
    "vocab = tm_vect.get_feature_names()\n",
    "\n",
    "# view the topic models\n",
    "n_top_words = 10\n",
    "topic_summaries = []\n",
    "for i, topic_dist in enumerate(topic_word):\n",
    "    topic_words = numpy.array(vocab)[numpy.argsort(topic_dist)][:-(n_top_words+1):-1]\n",
    "    topic_summaries.append('|'.join(topic_words))\n",
    "pprint(topic_summaries)"
   ]
  },
  {
   "cell_type": "markdown",
   "metadata": {},
   "source": [
    "#### Named Entity Recognition"
   ]
  },
  {
   "cell_type": "code",
   "execution_count": 20,
   "metadata": {},
   "outputs": [],
   "source": [
    "def f_ner_func(df):\n",
    "    spacy_nlp = spacy.load('en')\n",
    "    doc = df['dialogue'].apply(spacy_nlp).apply(lambda x : [X.label_ for X in x.ents])\n",
    "    def getCountNER(attr):\n",
    "        return dict((x,attr.count(x)) for x in set(attr))\n",
    "    f_ner=DictVectorizer().fit_transform(doc.apply(getCountNER))  # Number of each type of named entity -> as a feature\n",
    "    return f_ner\n"
   ]
  },
  {
   "cell_type": "markdown",
   "metadata": {},
   "source": [
    "#### Sentiment"
   ]
  },
  {
   "cell_type": "raw",
   "metadata": {},
   "source": [
    "nltk.download('vader_lexicon')"
   ]
  },
  {
   "cell_type": "code",
   "execution_count": 21,
   "metadata": {},
   "outputs": [],
   "source": [
    "def f_sent_func(df):\n",
    "    sia = SIA()\n",
    "    sentiment= df['dialogue'].apply(sia.polarity_scores)\n",
    "    f_sent=DictVectorizer().fit_transform(df['dialogue'].apply(sia.polarity_scores)) #Sentiment polarity score as feature\n",
    "    min_max_scaler = preprocessing.MinMaxScaler()\n",
    "    f_sent_scaled = min_max_scaler.fit_transform(f_sent.toarray()) # Sentiment features scaled\n",
    "    return f_sent_scaled\n"
   ]
  },
  {
   "cell_type": "markdown",
   "metadata": {},
   "source": [
    "# Text Classification"
   ]
  },
  {
   "cell_type": "code",
   "execution_count": 22,
   "metadata": {},
   "outputs": [],
   "source": [
    "# Define classifiers to be evaluated\n",
    "\n",
    "# Define feature selector\n",
    "feature_selector=SelectKBest(chi2, k=1000)\n",
    "\n",
    "#Create pipelines for each classifier type\n",
    "svm_pipeline = Pipeline([('chi2', feature_selector),('svm', LinearSVC())])\n",
    "nb_pipeline = Pipeline([('chi2', feature_selector),('nb', MultinomialNB())])\n",
    "lr_pipeline = Pipeline([('chi2', feature_selector),('lr', LogisticRegression())])\n",
    "\n",
    "# Create classifier list\n",
    "models = [\n",
    "    OneVsRestClassifier(svm_pipeline),\n",
    "    OneVsRestClassifier(nb_pipeline),\n",
    "    OneVsRestClassifier(lr_pipeline)\n",
    "]\n",
    "model_names=['SVM', 'Naive-Bayes','Max-Entropy']"
   ]
  },
  {
   "cell_type": "code",
   "execution_count": 23,
   "metadata": {},
   "outputs": [],
   "source": [
    "# cross validation function\n",
    "def cross_validation(features,labels, fold):\n",
    "    cv_df = pd.DataFrame(index=range(fold * len(models)))\n",
    "    entries = []\n",
    "    for model,model_name in zip(models,model_names):\n",
    "        accuracies = cross_val_score(model, features, labels, scoring='accuracy', cv=fold)\n",
    "        for fold_idx, accuracy in enumerate(accuracies):\n",
    "            entries.append((model_name, fold_idx, accuracy))\n",
    "    cv_df = pd.DataFrame(entries, columns=['model_name', 'fold_idx', 'accuracy'])\n",
    "    return cv_df"
   ]
  },
  {
   "cell_type": "markdown",
   "metadata": {},
   "source": [
    "### 1. Only Textual Features"
   ]
  },
  {
   "cell_type": "code",
   "execution_count": 24,
   "metadata": {},
   "outputs": [],
   "source": [
    "# Combining Features\n",
    "features=sparse.hstack([f_tfidf_func(df),f_topics_func(df),f_pos_tags_func(df),f_ner_func(df),f_meta_func(df),f_pos_count_func(df),f_sent_func(df)])\n"
   ]
  },
  {
   "cell_type": "code",
   "execution_count": 25,
   "metadata": {},
   "outputs": [],
   "source": [
    "# Split data into train and test\n",
    "X_train=features.tocsr()[:-1]\n",
    "X_test=features.tocsr()[-1]\n",
    "y_train=labels"
   ]
  },
  {
   "cell_type": "code",
   "execution_count": 26,
   "metadata": {},
   "outputs": [
    {
     "data": {
      "text/html": [
       "<div>\n",
       "<style scoped>\n",
       "    .dataframe tbody tr th:only-of-type {\n",
       "        vertical-align: middle;\n",
       "    }\n",
       "\n",
       "    .dataframe tbody tr th {\n",
       "        vertical-align: top;\n",
       "    }\n",
       "\n",
       "    .dataframe thead th {\n",
       "        text-align: right;\n",
       "    }\n",
       "</style>\n",
       "<table border=\"1\" class=\"dataframe\">\n",
       "  <thead>\n",
       "    <tr style=\"text-align: right;\">\n",
       "      <th></th>\n",
       "      <th>character</th>\n",
       "    </tr>\n",
       "    <tr>\n",
       "      <th>category_id</th>\n",
       "      <th></th>\n",
       "    </tr>\n",
       "  </thead>\n",
       "  <tbody>\n",
       "    <tr>\n",
       "      <th>19</th>\n",
       "      <td>TANYA</td>\n",
       "    </tr>\n",
       "  </tbody>\n",
       "</table>\n",
       "</div>"
      ],
      "text/plain": [
       "            character\n",
       "category_id          \n",
       "19              TANYA"
      ]
     },
     "execution_count": 26,
     "metadata": {},
     "output_type": "execute_result"
    }
   ],
   "source": [
    "# Training and Testing\n",
    "model=OneVsRestClassifier(svm_pipeline)\n",
    "model.fit(X_train, y_train)\n",
    "y_pred = model.predict(X_test)\n",
    "category_df.set_index('category_id').iloc[y_pred]"
   ]
  },
  {
   "cell_type": "markdown",
   "metadata": {},
   "source": [
    "### 2. Textual Features with Scene details and Parenthetical Attributes"
   ]
  },
  {
   "cell_type": "code",
   "execution_count": 27,
   "metadata": {},
   "outputs": [],
   "source": [
    "# Combining Features\n",
    "features=sparse.hstack([features,f_scene_func(df),f_attributes_func(df)])\n"
   ]
  },
  {
   "cell_type": "code",
   "execution_count": 28,
   "metadata": {},
   "outputs": [],
   "source": [
    "# Split data into train and test\n",
    "X_train=features.tocsr()[:-1]\n",
    "X_test=features.tocsr()[-1]\n",
    "y_train=labels"
   ]
  },
  {
   "cell_type": "code",
   "execution_count": 29,
   "metadata": {},
   "outputs": [
    {
     "data": {
      "text/html": [
       "<div>\n",
       "<style scoped>\n",
       "    .dataframe tbody tr th:only-of-type {\n",
       "        vertical-align: middle;\n",
       "    }\n",
       "\n",
       "    .dataframe tbody tr th {\n",
       "        vertical-align: top;\n",
       "    }\n",
       "\n",
       "    .dataframe thead th {\n",
       "        text-align: right;\n",
       "    }\n",
       "</style>\n",
       "<table border=\"1\" class=\"dataframe\">\n",
       "  <thead>\n",
       "    <tr style=\"text-align: right;\">\n",
       "      <th></th>\n",
       "      <th>character</th>\n",
       "    </tr>\n",
       "    <tr>\n",
       "      <th>category_id</th>\n",
       "      <th></th>\n",
       "    </tr>\n",
       "  </thead>\n",
       "  <tbody>\n",
       "    <tr>\n",
       "      <th>17</th>\n",
       "      <td>STACEY</td>\n",
       "    </tr>\n",
       "  </tbody>\n",
       "</table>\n",
       "</div>"
      ],
      "text/plain": [
       "            character\n",
       "category_id          \n",
       "17             STACEY"
      ]
     },
     "execution_count": 29,
     "metadata": {},
     "output_type": "execute_result"
    }
   ],
   "source": [
    "# Training and Testing\n",
    "model=OneVsRestClassifier(svm_pipeline)\n",
    "model.fit(X_train, y_train)\n",
    "y_pred = model.predict(X_test)\n",
    "category_df.set_index('category_id').iloc[y_pred]"
   ]
  },
  {
   "cell_type": "markdown",
   "metadata": {},
   "source": [
    "### 3. Textual Features with Scene details,  Parenthetical Attributes and character groups"
   ]
  },
  {
   "cell_type": "code",
   "execution_count": 30,
   "metadata": {},
   "outputs": [],
   "source": [
    "# Combining Features\n",
    "features=sparse.hstack([features,f_char_groups_func(df)])\n"
   ]
  },
  {
   "cell_type": "code",
   "execution_count": 31,
   "metadata": {},
   "outputs": [],
   "source": [
    "# Split data into train and test\n",
    "X_train=features.tocsr()[:-1]\n",
    "X_test=features.tocsr()[-1]\n",
    "y_train=labels"
   ]
  },
  {
   "cell_type": "code",
   "execution_count": 32,
   "metadata": {},
   "outputs": [
    {
     "data": {
      "text/html": [
       "<div>\n",
       "<style scoped>\n",
       "    .dataframe tbody tr th:only-of-type {\n",
       "        vertical-align: middle;\n",
       "    }\n",
       "\n",
       "    .dataframe tbody tr th {\n",
       "        vertical-align: top;\n",
       "    }\n",
       "\n",
       "    .dataframe thead th {\n",
       "        text-align: right;\n",
       "    }\n",
       "</style>\n",
       "<table border=\"1\" class=\"dataframe\">\n",
       "  <thead>\n",
       "    <tr style=\"text-align: right;\">\n",
       "      <th></th>\n",
       "      <th>character</th>\n",
       "    </tr>\n",
       "    <tr>\n",
       "      <th>category_id</th>\n",
       "      <th></th>\n",
       "    </tr>\n",
       "  </thead>\n",
       "  <tbody>\n",
       "    <tr>\n",
       "      <th>3</th>\n",
       "      <td>DAWN</td>\n",
       "    </tr>\n",
       "  </tbody>\n",
       "</table>\n",
       "</div>"
      ],
      "text/plain": [
       "            character\n",
       "category_id          \n",
       "3                DAWN"
      ]
     },
     "execution_count": 32,
     "metadata": {},
     "output_type": "execute_result"
    }
   ],
   "source": [
    "# Training and Testing\n",
    "model=OneVsRestClassifier(svm_pipeline)\n",
    "model.fit(X_train, y_train)\n",
    "y_pred = model.predict(X_test)\n",
    "category_df.set_index('category_id').iloc[y_pred]"
   ]
  },
  {
   "cell_type": "markdown",
   "metadata": {},
   "source": [
    "### 4. Textual Features with Scene details,  Parenthetical Attributes and character groups and gender"
   ]
  },
  {
   "cell_type": "code",
   "execution_count": 33,
   "metadata": {},
   "outputs": [],
   "source": [
    "# Combining Features\n",
    "features=sparse.hstack([features, f_gender_func(df)])\n"
   ]
  },
  {
   "cell_type": "code",
   "execution_count": 34,
   "metadata": {},
   "outputs": [],
   "source": [
    "# Split data into train and test\n",
    "X_train=features.tocsr()[:-1]\n",
    "X_test=features.tocsr()[-1]\n",
    "y_train=labels"
   ]
  },
  {
   "cell_type": "code",
   "execution_count": 35,
   "metadata": {},
   "outputs": [
    {
     "data": {
      "text/html": [
       "<div>\n",
       "<style scoped>\n",
       "    .dataframe tbody tr th:only-of-type {\n",
       "        vertical-align: middle;\n",
       "    }\n",
       "\n",
       "    .dataframe tbody tr th {\n",
       "        vertical-align: top;\n",
       "    }\n",
       "\n",
       "    .dataframe thead th {\n",
       "        text-align: right;\n",
       "    }\n",
       "</style>\n",
       "<table border=\"1\" class=\"dataframe\">\n",
       "  <thead>\n",
       "    <tr style=\"text-align: right;\">\n",
       "      <th></th>\n",
       "      <th>character</th>\n",
       "    </tr>\n",
       "    <tr>\n",
       "      <th>category_id</th>\n",
       "      <th></th>\n",
       "    </tr>\n",
       "  </thead>\n",
       "  <tbody>\n",
       "    <tr>\n",
       "      <th>3</th>\n",
       "      <td>DAWN</td>\n",
       "    </tr>\n",
       "  </tbody>\n",
       "</table>\n",
       "</div>"
      ],
      "text/plain": [
       "            character\n",
       "category_id          \n",
       "3                DAWN"
      ]
     },
     "execution_count": 35,
     "metadata": {},
     "output_type": "execute_result"
    }
   ],
   "source": [
    "# Training and Testing\n",
    "model=OneVsRestClassifier(svm_pipeline)\n",
    "model.fit(X_train, y_train)\n",
    "y_pred = model.predict(X_test)\n",
    "category_df.set_index('category_id').iloc[y_pred]"
   ]
  }
 ],
 "metadata": {
  "kernelspec": {
   "display_name": "Python 3",
   "language": "python",
   "name": "python3"
  },
  "language_info": {
   "codemirror_mode": {
    "name": "ipython",
    "version": 3
   },
   "file_extension": ".py",
   "mimetype": "text/x-python",
   "name": "python",
   "nbconvert_exporter": "python",
   "pygments_lexer": "ipython3",
   "version": "3.6.8"
  }
 },
 "nbformat": 4,
 "nbformat_minor": 2
}
